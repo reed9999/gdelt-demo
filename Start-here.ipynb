{
 "cells": [
  {
   "cell_type": "markdown",
   "metadata": {},
   "source": [
    "# GDELT Demo project showcase\n",
    "\n",
    "This is the simple presentation of my findings and a bit about the skills involved in getting there. For gory details, see [README.md](https://github.com/reed9999/gdelt-demo/blob/master/README.md)."
   ]
  },
  {
   "cell_type": "markdown",
   "metadata": {},
   "source": [
    "## Findings and visualizations\n",
    "\n",
    "This project is still in early stages, but this is where I will present findings."
   ]
  },
  {
   "cell_type": "markdown",
   "metadata": {},
   "source": [
    "## Skills demonstrated\n",
    "\n",
    "* **General quant research**: This will become evident in time. For now the best demonstration is my brainstorming about the research questions in [README.md](https://github.com/reed9999/gdelt-demo/blob/master/README.md).\n",
    "* **Hive QL and SQL**: Several exploratory queries: \n",
    "  * For now the best examples are those having to do with the Goldstein scale column, see [queries/goldsteinscale](https://github.com/reed9999/gdelt-demo/tree/master/queries/goldsteinscale). Most of those should run as SQL against a local MySQL.\n",
    "  \n",
    "* **Spark** (via PySpark): See [queries/spark-sql](https://github.com/reed9999/gdelt-demo/tree/master/queries/spark-sql).\n",
    "* **AWS setup** (S3, EMR cluster creation)\n",
    "  * **via CLI**: See [automation/scripts](https://github.com/reed9999/gdelt-demo/tree/master/automation/scripts).\n",
    "  * **via boto3**: See [automation](https://github.com/reed9999/gdelt-demo/tree/master/automation)."
   ]
  }
 ],
 "metadata": {
  "kernelspec": {
   "display_name": "Python 3",
   "language": "python",
   "name": "python3"
  },
  "language_info": {
   "codemirror_mode": {
    "name": "ipython",
    "version": 3
   },
   "file_extension": ".py",
   "mimetype": "text/x-python",
   "name": "python",
   "nbconvert_exporter": "python",
   "pygments_lexer": "ipython3",
   "version": "3.6.3"
  }
 },
 "nbformat": 4,
 "nbformat_minor": 2
}
