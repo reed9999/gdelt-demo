{
 "cells": [
  {
   "cell_type": "markdown",
   "metadata": {},
   "source": [
    "# GDELT Demo project showcase\n",
    "\n",
    "This is the simple presentation of my findings and a bit about the skills involved in getting there. For a more general intro, a review of the skills demonstrated here, and setup instructions, see [README.md](https://github.com/reed9999/gdelt-demo/blob/master/README.md) and children.\n",
    "\n",
    "**AT PRESENT EVERYTHING ALL FINDINGS ARE EXPLORATORY**"
   ]
  },
  {
   "cell_type": "markdown",
   "metadata": {},
   "source": [
    "## Skills demonstrated\n",
    "\n",
    "I've moved this to the main README.md."
   ]
  },
  {
   "cell_type": "markdown",
   "metadata": {},
   "source": [
    "## Findings and visualizations\n",
    "\n",
    "This project is still in early stages, but I'll post small scale findings incrementally. So far I'm just running a few simple descriptives and regressions to get a feel for various aspects of the data.  "
   ]
  },
  {
   "cell_type": "markdown",
   "metadata": {},
   "source": [
    "**NOTE**: To allow for execution of these demos without placing multiple gigabytes in the repo, I am engineering them to run with sample data when bigger datasets (either my local copy, still a sample but bigger, or on the full dataset) are unavailable. Thus specific metrics may not agree with what I report."
   ]
  },
  {
   "cell_type": "code",
   "execution_count": 6,
   "metadata": {},
   "outputs": [
    {
     "name": "stderr",
     "output_type": "stream",
     "text": [
      "/usr/local/lib/python3.6/dist-packages/numpy/lib/arraysetops.py:463: FutureWarning: elementwise comparison failed; returning scalar instead, but in the future will perform elementwise comparison\n",
      "  mask |= (ar1 == a)\n",
      "WARNING:root:Warning (unofficial): 2 NA Goldstein of 83742457 total nulls\n"
     ]
    },
    {
     "name": "stdout",
     "output_type": "stream",
     "text": [
      "       actiongeo_lat  actiongeo_long  actiongeo_type  actor1geo_lat  \\\n",
      "count   4.560318e+06    4.560415e+06    4.375919e+06   4.478559e+06   \n",
      "mean    2.878379e+01    7.345163e+00    2.811361e+00   2.689450e+01   \n",
      "std     2.202250e+01    6.847529e+01    1.394886e+00   2.240352e+01   \n",
      "min    -8.562210e+01   -1.799170e+02    0.000000e+00  -8.562210e+01   \n",
      "25%     1.558810e+01   -7.105980e+01    1.000000e+00   1.280000e+01   \n",
      "50%     3.387190e+01    1.841670e+01    4.000000e+00   3.350000e+01   \n",
      "75%     4.214970e+01    3.921920e+01    4.000000e+00   4.167720e+01   \n",
      "max     8.500000e+01    1.800000e+02    5.000000e+00   8.500000e+01   \n",
      "\n",
      "       actor1geo_long  actor1geo_type  actor2geo_lat  actor2geo_long  \\\n",
      "count    4.478634e+06    4.132991e+06   4.328860e+06    4.328919e+06   \n",
      "mean     6.891850e+00    2.544036e+00   2.372895e+01    7.294526e+00   \n",
      "std      6.597588e+01    1.528343e+00   2.269847e+01    6.144407e+01   \n",
      "min     -1.799830e+02    0.000000e+00  -8.562210e+01   -1.799830e+02   \n",
      "25%     -6.100000e+01    1.000000e+00   0.000000e+00   -2.000000e+00   \n",
      "50%      1.283330e+01    3.000000e+00   3.150000e+01    5.083330e+00   \n",
      "75%      3.761560e+01    4.000000e+00   3.992720e+01    3.600000e+01   \n",
      "max      1.800000e+02    5.000000e+00   8.500000e+01    1.800000e+02   \n",
      "\n",
      "       actor2geo_type       avgtone  fractiondate  goldsteinscale  \n",
      "count    3.752437e+06  4.581512e+06  4.581512e+06    4.581512e+06  \n",
      "mean     2.391634e+00  3.662871e+00  1.991083e+03    3.816873e-01  \n",
      "std      1.599265e+00  3.697936e+00  1.223829e+01    4.886306e+00  \n",
      "min      0.000000e+00 -3.035714e+01  1.982003e+03   -1.000000e+01  \n",
      "25%      1.000000e+00  2.061856e+00  1.984414e+03   -2.000000e+00  \n",
      "50%      3.000000e+00  4.090558e+00  1.985679e+03    1.000000e+00  \n",
      "75%      4.000000e+00  5.954198e+00  1.987734e+03    3.400000e+00  \n",
      "max      5.000000e+00  3.333333e+01  2.016578e+03    1.000000e+01  \n"
     ]
    }
   ],
   "source": [
    "import importlib\n",
    "import analysis.goldsteinscale_avgtone as ga\n",
    "importlib.reload(ga)\n",
    "\n",
    "regr = ga.GARegression()\n",
    "regr.prepare_data()\n",
    "regr.report_descriptives()\n"
   ]
  },
  {
   "cell_type": "markdown",
   "metadata": {},
   "source": [
    "### International stability and media tone\n",
    "\n",
    "Goldstein is a measure of propensity of each *type* of event to promote stability; avgtone is the average tone across all items (mostly media stories, I think) referencing the event. My intuition is that they should be positively correlated, because the media reflects the public's interest in stability. \n",
    "\n",
    "#### Descriptives and simple plots\n",
    "A good place to start, before I do inferential stats, is to get to know the data. I jumped ahead a bit but now am coming back to this.\n",
    "\n",
    "**COMING NEXT**: Means, stdev, plots -- maybe box plots with interquartile range, maybe histograms "
   ]
  },
  {
   "cell_type": "markdown",
   "metadata": {},
   "source": [
    "#### Regression analysis\n",
    "\n",
    "The most interesting story I've found so far is that the tone of coverage trends downwards for time while controlling for the Goldstein score of each kind of event:"
   ]
  },
  {
   "cell_type": "code",
   "execution_count": 1,
   "metadata": {},
   "outputs": [
    {
     "name": "stderr",
     "output_type": "stream",
     "text": [
      "/home/philip/Documents/aws-project/gdelt-demo/analysis/goldsteinscale_avgtone.py:90: DtypeWarning: Columns (24) have mixed types. Specify dtype option on import or set low_memory=False.\n",
      "  self.prepare_data()\n",
      "/usr/local/lib/python3.6/dist-packages/numpy/lib/arraysetops.py:463: FutureWarning: elementwise comparison failed; returning scalar instead, but in the future will perform elementwise comparison\n",
      "  mask |= (ar1 == a)\n"
     ]
    },
    {
     "name": "stdout",
     "output_type": "stream",
     "text": [
      "Warning (unofficial): 2 NA Goldstein of 47298229 total nulls\n"
     ]
    },
    {
     "data": {
      "text/plain": [
       "<matplotlib.figure.Figure at 0x7f9e41288438>"
      ]
     },
     "metadata": {},
     "output_type": "display_data"
    },
    {
     "name": "stdout",
     "output_type": "stream",
     "text": [
      "Coefficients on the regression: [[-0.22229802  0.13551692]]\n",
      "MSRE: 7.835794230966895\n",
      "r2: 0.569243224924088\n"
     ]
    }
   ],
   "source": [
    "import analysis.goldsteinscale_avgtone as ga\n",
    "regr = ga.GARegression()\n",
    "regr.go()\n",
    "\n",
    "#Coefficients are for date (in fraction of year) and Goldstein coefficient\n",
    "#Dependent variable is average tone of documents, i.e. coverage.\n",
    "regr.print_output()\n"
   ]
  },
  {
   "cell_type": "markdown",
   "metadata": {},
   "source": [
    "Results from running on my local \"mini\" database (bigger than the sample data in this repo, which of course will generate different results):\n",
    "\n",
    "```\n",
    "Coefficients on the regression:\n",
    "\n",
    "    fractiondate: -0.2022747908947874\n",
    "    goldsteinscale: 0.13080667992903958\n",
    "MSRE: 8.334688464736924\n",
    "r2: 0.5204274326466958\n",
    "```\n",
    "\n",
    "#### Interpretation\n",
    "Each year is associated with a -0.20 change in average tone, holding constant the theoretical propensity of the events to promote stability (i.e. holding constant the Goldstein score). Each 1.0 point increase in the Goldstein store is associated with a +0.13 change, holding constant the date.\n",
    "\n",
    "In isolation, all we can tell from the MSRE is that a mean absolute value of the std error would be sqrt(8.3) ~= 2.9. In principle avgtone can run from -100 to 100, but in practice it seems to usually be between 0 and 10. So, missing estimates by 2.8 seems not-great; however, it's a more useful metric to compare to other analyses than in isolation. The r-squared looks pretty nice for just my first attempt at specifying a regression with two independent variables, but I should be cautious about this metric as I run more regressions and risk overfitting.\n",
    "\n",
    "I have not yet run this on all the data (e.g., with Spark on AWS Elastic MapReduce), just a subset of six data files."
   ]
  },
  {
   "cell_type": "markdown",
   "metadata": {},
   "source": [
    "### Research questions\n",
    "To get interesting answers, I need good questions. This is what makes this project more than just an extended SQL or PySpark tutorial. In this kind of research there's going to be some iteration in RQs, because things you think *a priori* might be interesting turn out not to be, and vice versa. So this is largely a running list of ideas, .\n",
    "\n",
    "1. **Media tone and stability** - The Rosenstein score is a measure of how each kind of action promotes or erodes stability. The tone score is something about the tone of the media coverage of the event. See above.\n",
    "\n",
    "1. **Actor affinity by dyad** - Do some actor dyads consistently produce higher scores (Rosenstein or media tone) than others? I'd think this would be a trivial \"Yes\" because relationships between allies should produce more positive news than those between adversaries. So this is exploring the obvious, but a good sanity check to make sure I'm understanding the nature of this data.\n",
    "\n",
    "  1. **Asymmetrical relationships** - Just brainstorming. If X threatens Y more than Y threatens X that's also significant and interesting.\n",
    "  \n",
    "1. **Longitudinal time series questions** - This dataset is so rich that it could support a lot of this.\n",
    "\n",
    "1. **Clustering countries or other actors** - If I want to polish up those *k*-means clustering skills, there's probably all kinds of variables I could derive (\"number of threats made\", \"number of overtures to negotiation\", \"general tone of media coverage\", etc.).\n",
    "\n",
    "1. **Network graph analysis** - I don't actually know much about this topic, but clearly this data would support a lot of inferences about how actors build their networks. \n",
    "\n"
   ]
  },
  {
   "cell_type": "markdown",
   "metadata": {},
   "source": [
    "## A note on data engineering and AWS Elastic MapReduce\n",
    "It's a bit of a gray area whether learning how to move files around to AWS EMR, get Spark to run my Python scripts without hanging, etc. is properly part of data science or whether it's actually data engineering. I find it valuable to learn these skills even though they don't lead directly to findings above. See the README.md for the skills developed in this subset of the project.\n"
   ]
  }
 ],
 "metadata": {
  "kernelspec": {
   "display_name": "Python 3",
   "language": "python",
   "name": "python3"
  },
  "language_info": {
   "codemirror_mode": {
    "name": "ipython",
    "version": 3
   },
   "file_extension": ".py",
   "mimetype": "text/x-python",
   "name": "python",
   "nbconvert_exporter": "python",
   "pygments_lexer": "ipython3",
   "version": "3.6.3"
  }
 },
 "nbformat": 4,
 "nbformat_minor": 2
}
