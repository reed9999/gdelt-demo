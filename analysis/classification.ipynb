{
 "cells": [
  {
   "cell_type": "markdown",
   "metadata": {},
   "source": [
    "# GDELT Demo: Classification\n",
    "\n",
    "Instructions: [README.md](../README.md) in project root.\n",
    "\n",
    "Starting point for Jupyter notebooks: [/Start_here.ipynb](../Start_here.ipynb) in project root.\n"
   ]
  },
  {
   "cell_type": "markdown",
   "metadata": {},
   "source": [
    "This notebook breaks out some of the classification tasks associated with my GDELT analysis. For this initial stage I will address questions like: \n",
    "\n",
    "* Can I use various aggregate stats of \"relationships\" (as actor 1, actor 2, or both) to identify developed versus developing (or high- vs. low-GDP, or high- vs. low-HDI) countries?"
   ]
  },
  {
   "cell_type": "markdown",
   "metadata": {},
   "source": [
    "## Findings and visualizations"
   ]
  },
  {
   "cell_type": "markdown",
   "metadata": {},
   "source": [
    "**NOTE**: As with the regression analysis, to allow for execution of these demos without placing multiple gigabytes in the repo, I am engineering them to run with sample data when bigger datasets are unavailable. Thus specific metrics may not agree with what I report."
   ]
  },
  {
   "cell_type": "code",
   "execution_count": 2,
   "metadata": {},
   "outputs": [
    {
     "data": {
      "text/plain": [
       "<module 'classification' from '/home/philip/code/gdelt-demo/analysis/classification.py'>"
      ]
     },
     "execution_count": 2,
     "metadata": {},
     "output_type": "execute_result"
    }
   ],
   "source": [
    "import sys\n",
    "import os\n",
    "import importlib\n",
    "\n",
    "#project imports\n",
    "sys.path.insert(0, os.path.join(os.getcwd(), \"..\"))\n",
    "import classification"
   ]
  },
  {
   "cell_type": "code",
   "execution_count": 7,
   "metadata": {},
   "outputs": [
    {
     "name": "stdout",
     "output_type": "stream",
     "text": [
      "Not yet implemented: do_decision_tree\n",
      "Not yet implemented: do_svm\n",
      "Not yet implemented: do_random_forest\n"
     ]
    }
   ],
   "source": [
    "importlib.reload(classification)\n",
    "\n",
    "from classification import GdeltClassificationTask as Task\n",
    "task = Task()\n",
    "task.do_decision_tree()\n",
    "task.do_svm()\n",
    "task.do_random_forest()"
   ]
  },
  {
   "cell_type": "markdown",
   "metadata": {},
   "source": [
    "### Classification by level of development\n",
    "\n",
    "For this initial version, just divide the world into developed and developing countries based on GDP.\n",
    "This classification isn't inherently earthshaking (because we can simply look up GDP and don't need GDELT to predict it) but it's a sort of sanity check that my classification strategies are interesting. More generally, predicting development by the 'signature' in GDELT might tell us something nontrivial about world events.\n",
    "\n",
    "Features will be things like \"number of different relationships,\" \"ratio of actor 1 to actor 2 relationships,\" specific CAMEO codes (eventcode families) in those relationships, etc., where *relationships* means events linking actor 1 to actor 2."
   ]
  },
  {
   "cell_type": "markdown",
   "metadata": {},
   "source": [
    "### Using classifiers to predict violent events\n",
    "\n",
    "The sanity check version of this would be whether simply a certain number of violent event codes at time *t-1* back to whatever *t-N* predicts violent events. Violent events will need to be defined based on CAMEO code.\n",
    "\n",
    "More interestingly, the question would be predicting violence at time *t* through nonviolent patterns at time *t'* < *t*."
   ]
  }
 ],
 "metadata": {
  "kernelspec": {
   "display_name": "Python 3",
   "language": "python",
   "name": "python3"
  },
  "language_info": {
   "codemirror_mode": {
    "name": "ipython",
    "version": 3
   },
   "file_extension": ".py",
   "mimetype": "text/x-python",
   "name": "python",
   "nbconvert_exporter": "python",
   "pygments_lexer": "ipython3",
   "version": "3.5.2"
  }
 },
 "nbformat": 4,
 "nbformat_minor": 2
}
