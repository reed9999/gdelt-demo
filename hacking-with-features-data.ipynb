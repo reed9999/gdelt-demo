{
 "cells": [
  {
   "cell_type": "markdown",
   "metadata": {},
   "source": [
    "This is a quick-and-dirty notebook to give me a REPL to play with loading the dyad features data into pandas. I'm placing it in git to document my thinking a bit."
   ]
  },
  {
   "cell_type": "code",
   "execution_count": null,
   "metadata": {},
   "outputs": [],
   "source": []
  },
  {
   "cell_type": "code",
   "execution_count": 5,
   "metadata": {},
   "outputs": [
    {
     "data": {
      "text/plain": [
       "<module 'analysis.pandas_gdelt_helper' from '/home/philip/code/gdelt-demo/analysis/pandas_gdelt_helper.py'>"
      ]
     },
     "execution_count": 5,
     "metadata": {},
     "output_type": "execute_result"
    }
   ],
   "source": [
    "import importlib\n",
    "import pandas as pd\n",
    "\n",
    "import analysis.pandas_gdelt_helper as helper\n",
    "importlib.reload(helper)"
   ]
  },
  {
   "cell_type": "code",
   "execution_count": 6,
   "metadata": {},
   "outputs": [],
   "source": [
    "from analysis.settings import PATHS, SCHEMA, MISC\n",
    "filename = PATHS['dyad_events_by_year']\n",
    "dyad_events_by_year = pd.read_csv(filename, delimiter=\"\\t\",\n",
    "#             names=column_names, dtype=dtypes,\n",
    "            error_bad_lines=False,\n",
    "#             usecols=range(0, n), #without this I get cannot convert float NaN to integer\n",
    "                       ) # also tried: .dropna() #index_col=['code'])\n"
   ]
  },
  {
   "cell_type": "code",
   "execution_count": 13,
   "metadata": {},
   "outputs": [
    {
     "data": {
      "text/plain": [
       "((2167, 8), (1121,))"
      ]
     },
     "execution_count": 13,
     "metadata": {},
     "output_type": "execute_result"
    }
   ],
   "source": [
    "#Why are these so different?\n",
    "(\n",
    "    dyad_events_by_year.shape,\n",
    "    helper.PandasGdeltHelper.dyad_aggression_by_year('series').shape,\n",
    ")"
   ]
  }
 ],
 "metadata": {
  "kernelspec": {
   "display_name": "gdelt-demo",
   "language": "python",
   "name": "gdelt-demo"
  },
  "language_info": {
   "codemirror_mode": {
    "name": "ipython",
    "version": 3
   },
   "file_extension": ".py",
   "mimetype": "text/x-python",
   "name": "python",
   "nbconvert_exporter": "python",
   "pygments_lexer": "ipython3",
   "version": "3.6.6"
  }
 },
 "nbformat": 4,
 "nbformat_minor": 2
}
